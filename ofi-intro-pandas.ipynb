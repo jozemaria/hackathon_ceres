{
 "cells": [
  {
   "cell_type": "code",
   "execution_count": null,
   "metadata": {},
   "outputs": [],
   "source": [
    "import pandas as pd"
   ]
  },
  {
   "cell_type": "code",
   "execution_count": null,
   "metadata": {},
   "outputs": [],
   "source": [
    "!wget -c https://raw.githubusercontent.com/jozemaria/hackathon_ceres/master/dados/dados-be-2018-analitico.csv?token=AHAAVHNX6Q63GRP6ERFOEHS5QFJ36\n",
    "## Inserir caminho RAW github do CSV"
   ]
  },
  {
   "cell_type": "code",
   "execution_count": null,
   "metadata": {},
   "outputs": [],
   "source": [
    "#Google_Colab\n",
    "!ls -lah  dados-be*"
   ]
  },
  {
   "cell_type": "markdown",
   "metadata": {},
   "source": [
    "# Primeiros passos com Pandas"
   ]
  },
  {
   "cell_type": "markdown",
   "metadata": {},
   "source": [
    "### Carregando dados de um arquivo de CSV:\n",
    "\n",
    "Como podemos ver, os dados baixados são um arquivo CSV. Os CSVs são comumente usados ​​para armazenar dados tabulares. Em palavras simples, ele contém linhas da tabela cujas células são separadas por algum token, como vírgula ou ponto e vírgula. O Pandas fornece a função *read_csv()*, que pega o caminho do arquivo CSV e produz uma representação DataFrame de seus dados."
   ]
  },
  {
   "cell_type": "code",
   "execution_count": null,
   "metadata": {},
   "outputs": [],
   "source": [
    "df = pd.read_csv(\"dados-be-2018-analitico.csv?token=AHAAVHNX6Q63GRP6ERFOEHS5QFJ36\", encoding='iso-8859-1', sep=';', thousands=r'.') "
   ]
  },
  {
   "cell_type": "markdown",
   "metadata": {},
   "source": [
    "Primeiro, vamos olhar se os dados do CSV foram carregados corretamente. Vamos utilizar o método head(), onde por default nos retorna os 5 primeiros valores da tabela."
   ]
  },
  {
   "cell_type": "code",
   "execution_count": null,
   "metadata": {
    "scrolled": true
   },
   "outputs": [],
   "source": [
    "df.head()\n",
    "#Caso queria aumentar o valor da busca, adicionar um valor ao método."
   ]
  },
  {
   "cell_type": "markdown",
   "metadata": {},
   "source": [
    "### Explorando o DataFrame\n",
    "\n",
    "Agora que lemos o conjunto de dados em um DataFrame, podemos começar a usar mais métodos do Pandas DataFrame para explorar os dados. Da mesma forma que acabamos de usar o head() para ver as primeiras linhas do DataFrame, podemos usar o método tail() para ver as informações de baixo para cima:"
   ]
  },
  {
   "cell_type": "code",
   "execution_count": null,
   "metadata": {},
   "outputs": [],
   "source": [
    "df.tail()\n",
    "#Caso queria aumentar o valor da busca, adicionar um valor ao método."
   ]
  },
  {
   "cell_type": "markdown",
   "metadata": {},
   "source": [
    "### Valores aleatórios\n",
    "\n",
    "Um novo Dataframe contendo 10 amostras aleatórias do Dataframe original pode ser criado usando o método \"sample()\":"
   ]
  },
  {
   "cell_type": "code",
   "execution_count": null,
   "metadata": {},
   "outputs": [],
   "source": [
    "df.sample(10)"
   ]
  },
  {
   "cell_type": "code",
   "execution_count": null,
   "metadata": {},
   "outputs": [],
   "source": [
    "# Mostrando a forma do nosso Dataframe (linhas, colunas)\n",
    "df.shape"
   ]
  },
  {
   "cell_type": "code",
   "execution_count": null,
   "metadata": {},
   "outputs": [],
   "source": [
    "# Montrando informações básicas sobre o Dataset (linhas, tamanhos, tipos)\n",
    "df.info()"
   ]
  },
  {
   "cell_type": "markdown",
   "metadata": {},
   "source": [
    "# Conceitos básicos e operações em pandas"
   ]
  },
  {
   "cell_type": "markdown",
   "metadata": {},
   "source": [
    "## Indexação\n",
    "\n",
    "Quando você lê um arquivo em um DataFrame, o pandas usa os valores na primeira linha (também conhecidos como cabeçalho) para os rótulos das colunas e o número da linha para os rótulos das linhas. Coletivamente, os rótulos são chamados de índice. Os DataFrames contêm um índice de linha e um índice de coluna. Aqui está um diagrama que exibe alguns dos rótulos de coluna e linha para dados:\n",
    "![Pandas Datafrane](https://raw.githubusercontent.com/jozemaria/hackathon_ceres/master/indexing.png?token=AHAAVHP5I4PICDCYNWZUIXS5QFKN2)\n",
    "\n",
    "Os rótulos nos permitem fazer referência a valores no DataFrame, sobre os quais aprenderemos mais no restante deste caderno."
   ]
  },
  {
   "cell_type": "markdown",
   "metadata": {},
   "source": [
    "## Data types\n",
    "\n",
    "Ao exibir linhas individuais, representadas como objetos de série, você pode ter notado o texto \"dtype: object\" após o último valor. \"dtype: object\" refere-se ao tipo de dados, ou dtype, dessa série. O objeto dtype é equivalente ao tipo de string no Python. O Pandas toma emprestado do sistema de tipos NumPy e contém os seguintes tipos:\n",
    "\n",
    "\n",
    "* \"object\" - representa valores de \"string\".\n",
    "* \"int\" - representa valores \"int\".\n",
    "* \"float\" - representa valores \"float\".\n",
    "* \"datatime\" - representa valores de data.\n",
    "* \"bool\" - representa valores booleanos \"True/False\".\n",
    "\n",
    "Ao ler um arquivo em um DataFrame, o pandas analisa os valores e infere os tipos de cada coluna. Para acessar os tipos - para cada coluna, use o atributo DataFrame.dtypes para retornar uma Série que contém cada nome de coluna e seu tipo correspondente. Também é possível especificar os tipos de coluna no momento da leitura dos dados no Pandas usando o atributo dtype em read_csv(). Leia mais sobre tipos de dados na [documentação do Pandas](https://pandas.pydata.org/pandas-docs/stable/).\n",
    "\n",
    "As vezes, podemos encontrar o valor - \"NaN\" - para representar Não é um número, em outras palavras, é o valor que os pandas não sabem representar, normalmente está associado a valores ausentes.\n",
    "\n",
    "[Caracteres Especiais - Python](https://stackoverflow.com/questions/37561991/what-is-dtypeo)"
   ]
  },
  {
   "cell_type": "code",
   "execution_count": null,
   "metadata": {},
   "outputs": [],
   "source": [
    "df.Mês.dtypes"
   ]
  },
  {
   "cell_type": "markdown",
   "metadata": {},
   "source": [
    "## Series\n",
    "\n",
    "O objeto Series é uma estrutura de dados principal que o Pandas usa para representar linhas e colunas. Uma série é uma coleção rotulada de valores semelhantes ao vetor NumPy. A principal vantagem dos objetos Series é a capacidade de utilizar rótulos não inteiros. As matrizes NumPy só podem utilizar rótulos inteiros para indexação. O Pandas utiliza esse recurso para fornecer mais contexto ao retornar uma linha ou coluna de um DataFrame. Por exemplo, quando você seleciona uma linha de um DataFrame, em vez de retornar os valores nessa linha como uma lista, o pandas retorna um objeto Series que contém os rótulos das colunas e os valores correspondentes: O objeto Series que representa a primeira linha parece gostar:\n",
    "\n",
    "### Selecionando linhas\n",
    "\n",
    "Enquanto usamos a notação de colchete para acessar elementos em uma matriz NumPy ou em uma lista padrão, precisamos usar o método Pandas loc[] para selecionar linhas em um DataFrame. O método loc[] permite selecionar linhas por rótulos de linha. Lembre-se de que, quando você lê um arquivo em um quadro de dados, o pandas usa o número (ou posição) da linha como o rótulo de cada linha. O Pandas usa indexação zero, portanto a primeira linha está no índice 0, a segunda linha no índice 1 e assim por diante."
   ]
  },
  {
   "cell_type": "code",
   "execution_count": null,
   "metadata": {},
   "outputs": [],
   "source": [
    "# Selecionando a linha de número 7\n",
    "df.loc[8]"
   ]
  },
  {
   "cell_type": "markdown",
   "metadata": {},
   "source": [
    "## Selecionando diversas linhas\n",
    "\n",
    "Se você estiver interessado em acessar várias linhas do DataFrame, poderá passar uma fatia de rótulos de linha ou uma lista de rótulos de linha, e os pandas retornarão um DataFrame. Observe que, diferentemente das listas de fatias no Python, uma fatia de um DataFrame usando .loc[] incluirá as linhas inicial e final:"
   ]
  },
  {
   "cell_type": "code",
   "execution_count": null,
   "metadata": {},
   "outputs": [],
   "source": [
    "# DataFrame contendo linhas do index 3, 4, 5 e 6\n",
    "df.loc[3:6]"
   ]
  },
  {
   "cell_type": "code",
   "execution_count": null,
   "metadata": {},
   "outputs": [],
   "source": [
    "# DataFrame contendo linhas do index 2, 5 e 10\n",
    "df.loc[[2, 5, 10]]"
   ]
  },
  {
   "cell_type": "markdown",
   "metadata": {},
   "source": [
    "### Exercício\n",
    "\n",
    "Selecione as últimas 10 linhas do nosso dataframe e atribua à variável __last_rows__. "
   ]
  },
  {
   "cell_type": "code",
   "execution_count": null,
   "metadata": {},
   "outputs": [],
   "source": [
    "# insira aqui seu código:\n"
   ]
  },
  {
   "cell_type": "markdown",
   "metadata": {},
   "source": [
    "### Seleção de linhas por critérios \n",
    "\n",
    "Também é possível selecionar linhas com base em um critério de pesquisa. Digamos que queremos apenas dados sobre a empresa \"CONCEIÇÃO\":"
   ]
  },
  {
   "cell_type": "code",
   "execution_count": null,
   "metadata": {},
   "outputs": [],
   "source": [
    "df[df['Empresa'] == \"CONCEIÇÃO\"].sample()"
   ]
  },
  {
   "cell_type": "markdown",
   "metadata": {},
   "source": [
    "Agora digamos que queremos pegar um valor numerico de uma coluna, uma empresa que passou 23615 Passagens de vale transporte em um mês. Vamos utilizar o método isin() com o numero dentro."
   ]
  },
  {
   "cell_type": "code",
   "execution_count": null,
   "metadata": {},
   "outputs": [],
   "source": [
    "df[df['Vale_Transporte'].isin([23615])].head()"
   ]
  },
  {
   "cell_type": "markdown",
   "metadata": {},
   "source": [
    "### Exercício\n",
    "\n",
    "Insira em uma váriavel \"selected_bus_lines\" o resultado da pesquisa das linhas de ônibus de número \"21\" e \"22\"."
   ]
  },
  {
   "cell_type": "code",
   "execution_count": null,
   "metadata": {},
   "outputs": [],
   "source": [
    "# insira aqui seu código:\n"
   ]
  },
  {
   "cell_type": "markdown",
   "metadata": {},
   "source": [
    "## Selecionando uma coluna individual\n",
    "\n",
    "Ao acessar uma coluna de um DataFrame, o Pandas retorna um objeto Series que contém o rótulo da linha e o valor de cada linha para essa coluna. Para acessar uma única coluna, use a notação de colchete e passe o nome da coluna como uma sequência:"
   ]
  },
  {
   "cell_type": "code",
   "execution_count": null,
   "metadata": {},
   "outputs": [],
   "source": [
    "df['Empresa'].sample()"
   ]
  },
  {
   "cell_type": "markdown",
   "metadata": {},
   "source": [
    "### Exercício\n",
    "\n",
    "Inserir em uma variável \"empresas\" as 5 últimas linhas da columa \"Empresa\""
   ]
  },
  {
   "cell_type": "code",
   "execution_count": null,
   "metadata": {},
   "outputs": [],
   "source": [
    "# insira aqui seu código:\n"
   ]
  },
  {
   "cell_type": "markdown",
   "metadata": {},
   "source": [
    "### Selecionando multiplas colunas pelo nome\n",
    "\n",
    "Para selecionar várias colunas, passe uma lista de cadeias que representam os nomes das colunas e os pandas retornarão um quadro de dados contendo apenas os valores nessas colunas. O código a seguir retorna um quadro de dados que contém as colunas \"Empresa\" e \"Linha\", nessa ordem:"
   ]
  },
  {
   "cell_type": "code",
   "execution_count": null,
   "metadata": {},
   "outputs": [],
   "source": [
    "df[['Empresa','Linha']].head()"
   ]
  },
  {
   "cell_type": "markdown",
   "metadata": {},
   "source": [
    "Ao selecionar várias colunas, a ordem das colunas no DataFrame retornado corresponde à ordem dos nomes das colunas na lista de cadeias de caracteres que você transmitiu. Isso permite que você explore facilmente colunas específicas que podem não estar posicionadas uma na outra na Quadro de dados."
   ]
  },
  {
   "cell_type": "markdown",
   "metadata": {},
   "source": [
    "### Exercício\n",
    "\n",
    "Selecione e exiba pelo menos uma linha de amostra aleatória de um DataFrame criado com apenas as colunas \"Empresa\", \"Linha\" e \"Mês\"."
   ]
  },
  {
   "cell_type": "code",
   "execution_count": null,
   "metadata": {},
   "outputs": [],
   "source": [
    "# insira aqui seu código:\n"
   ]
  },
  {
   "cell_type": "markdown",
   "metadata": {},
   "source": [
    "### Colunas Unicas\n",
    "\n",
    "No processo de conhecer os dados, é interessante conhecer a exclusividade de alguns atributos. Para isso, o Pandas implementa a função \"unique()\" que pode ser usada, por exemplo, para saber quantas empresas de ônibus diferentes aparecem em nossos dados:"
   ]
  },
  {
   "cell_type": "code",
   "execution_count": null,
   "metadata": {},
   "outputs": [],
   "source": [
    "empresas = df['Empresa'].unique()\n",
    "empresas"
   ]
  },
  {
   "cell_type": "markdown",
   "metadata": {},
   "source": [
    "### Exercício\n",
    "\n",
    "Informe a quantidade de linhas de ônibus presente em nosso DataFrame:"
   ]
  },
  {
   "cell_type": "code",
   "execution_count": null,
   "metadata": {},
   "outputs": [],
   "source": [
    "# insira aqui seu código:\n"
   ]
  },
  {
   "cell_type": "markdown",
   "metadata": {},
   "source": [
    "## Manipulação de Tabelas\n",
    "\n",
    "Nos exemplos mostrados anteriormente, aprendemos como exploarar um DataFrame com o Pandas. Agora, vamos explorar e manipular um DataFrame e realizar transformações nele. Continuaremos trabalhando com o mesmo conjunto de dados nas informações das Bilhetagem Eletronica. Criaremos um conjunto de dados melhor, limpando os dados e removendo informações não úteis. Também aprenderemos como agrupar informações e manipular dados."
   ]
  },
  {
   "cell_type": "markdown",
   "metadata": {},
   "source": [
    "### Apagando Colunas\n",
    "\n",
    "Às vezes, os conjuntos de dados têm mais informações do que os dados necessários ou de má qualidade que podem ser descartados. Vamos supor que não tenhamos que olhar entradas de metade do preço para estudantes (colunas com Estudante_ como prefixo) e, para simplificar as coisas, vamos removê-las do conjunto de dados com a função drop ():\n",
    "\n",
    "Dica: uma lista de colunas do conjunto de dados pode ser obtida chamando df.columns"
   ]
  },
  {
   "cell_type": "code",
   "execution_count": null,
   "metadata": {},
   "outputs": [],
   "source": [
    "df.columns"
   ]
  },
  {
   "cell_type": "code",
   "execution_count": null,
   "metadata": {},
   "outputs": [],
   "source": [
    "df.drop(['Estudante_Cartao','Estudante_BT'], axis=1).head() \n",
    "#Observe que colocamos o 'axis=1', ele informa que valores correspondem a colunas."
   ]
  },
  {
   "cell_type": "markdown",
   "metadata": {},
   "source": [
    "Da mesma forma que eliminamos algumas colunas, poderíamos pensar em manter apenas determinadas colunas no conjunto de dados. Supondo que queremos usar apenas as colunas \"Mês\", \"Empresa\", \"Qtd_Viagens\" e \"Linha\", podemos usar a função difference() para nos ajudar nisso:"
   ]
  },
  {
   "cell_type": "code",
   "execution_count": null,
   "metadata": {},
   "outputs": [],
   "source": [
    "df.drop(df.columns.difference(['Mês','Empresa','Qtd_Viagens', 'Linha']), axis=1).head()"
   ]
  },
  {
   "cell_type": "markdown",
   "metadata": {},
   "source": [
    "### Exercício \n",
    "\n",
    "Crie um novo DataFrame que não contenha dados sobre tickets de entrada subsidiados, de acordo com os seguintes passos:\n",
    "\n",
    "1. Verifique os nomes das colunas usando *df.columns.tolist()*. \n",
    "2. Atribua o DataFrame à variável **col_names**\n",
    "3. Remova os nomes de colunas indesejadas(informada acima) da variável **col_names**.\n",
    "4. Use a variável **col_names** para mapear apenas as colunas desejadas para um novo quadro de dados."
   ]
  },
  {
   "cell_type": "code",
   "execution_count": null,
   "metadata": {},
   "outputs": [],
   "source": [
    "# insira aqui seu código:\n"
   ]
  },
  {
   "cell_type": "markdown",
   "metadata": {},
   "source": [
    "### Adicionando Colunas\n",
    "\n",
    "Se, em vez de apagar, queremos adicionar uma nova coluna ao quadro de dados? Que tal adicionar uma nova coluna chamada 'Integracao_Total', que resulta da soma das colunas 'Integracao_Plena' e 'Integracao_Complementar'?\n",
    "\n"
   ]
  },
  {
   "cell_type": "code",
   "execution_count": null,
   "metadata": {},
   "outputs": [],
   "source": [
    "df['Integracao_Total'] = df['Integracao_Plena'] + df['Integracao_Complementar']\n",
    "df.sample(5)"
   ]
  },
  {
   "cell_type": "markdown",
   "metadata": {},
   "source": [
    "### Exercício\n",
    "\n",
    "Crie uma nova coluna usando a operação aritmética de soma que envolva as colunas do DataFrame ('Gratuito_*') e atribua esse resultado a uma váriavel 'col_gratuidade'.\n"
   ]
  },
  {
   "cell_type": "code",
   "execution_count": null,
   "metadata": {},
   "outputs": [],
   "source": [
    "# insira aqui seu código:"
   ]
  },
  {
   "cell_type": "markdown",
   "metadata": {},
   "source": [
    "### Operações em Colunas\n",
    "\n",
    "Uma etapa comum na análise de dados é aplicar uma operação ou uma função a uma coluna inteira específica. Uma operação primária seria uma alteração de tipo em uma coluna.\n",
    "\n",
    "A coluna \"Linha\" refere-se ao nome da linha de ônibus. Portanto, é plausível converter o tipo dessa coluna em string(str). Podemos fazer isso com a ajuda da função astype()."
   ]
  },
  {
   "cell_type": "code",
   "execution_count": null,
   "metadata": {},
   "outputs": [],
   "source": [
    "df.dtypes"
   ]
  },
  {
   "cell_type": "code",
   "execution_count": null,
   "metadata": {},
   "outputs": [],
   "source": [
    "df[\"Linha\"] = df[\"Linha\"].astype(str)"
   ]
  },
  {
   "cell_type": "code",
   "execution_count": null,
   "metadata": {},
   "outputs": [],
   "source": [
    "df.dtypes"
   ]
  },
  {
   "cell_type": "markdown",
   "metadata": {},
   "source": [
    "### Exercício\n",
    "\n",
    "Como você pode ver nas etapas anteriores, o Pandas deixou o tipo int64 para todas as colunas numéricas. Isso significa que os números são assinados com números inteiros de 64 bits. Essa precisão é necessária para a magnitude numérica desse conjunto de dados? Caso contrário, altere o tipo dessas colunas para int32. "
   ]
  },
  {
   "cell_type": "code",
   "execution_count": null,
   "metadata": {},
   "outputs": [],
   "source": [
    "# insira aqui sua resposta"
   ]
  },
  {
   "cell_type": "markdown",
   "metadata": {},
   "source": [
    "### O método Apply\n",
    "\n",
    "Às vezes, é necessário aplicar uma operação mais complexa a uma ou mais colunas do conjunto de dados. Para fazer isso com mais facilidade, o pandas oferece o método *apply*, que é capaz de aplicar uma operação personalizada em colunas.\n",
    "\n",
    "A coluna 'Mês' no quadro de dados refere-se aos números do mês. Também é interessante ter uma coluna com os nomes dos meses correspondentes, você não acha? Podemos fazer isso com o método apply, uma função lambda e uma biblioteca auxiliar chamada calendar (para mapear números de meses em nomes de meses). A lista resultante de nomes de meses pode ser adicionada como uma nova coluna para o quadro de dados.\n",
    "\n",
    "- Uma função lambda é uma pequena função anônima.\n",
    "- Uma função lambda pode receber qualquer número de argumentos, mas pode ter apenas uma expressão."
   ]
  },
  {
   "cell_type": "code",
   "execution_count": null,
   "metadata": {},
   "outputs": [],
   "source": [
    "# vamos adicionar a biblioteca \n",
    "from calendar import month_name "
   ]
  },
  {
   "cell_type": "markdown",
   "metadata": {},
   "source": [
    "Quando importamos o month_name, vamos obter os nomes referentes ao Mês.\n",
    "\n",
    "Ex: Para obter os nomes, podemos simplesmente acessar um elemento pelo seu número de índice. Por exemplo, se acessarmos o [3] elemento da matriz, obteremos 'March'."
   ]
  },
  {
   "cell_type": "code",
   "execution_count": null,
   "metadata": {},
   "outputs": [],
   "source": [
    "month_name[3]"
   ]
  },
  {
   "cell_type": "markdown",
   "metadata": {},
   "source": [
    "Assim, podemos aplicar esse módulo na coluna \"Mês\" e obter como resultado um Array de nomes de meses:"
   ]
  },
  {
   "cell_type": "code",
   "execution_count": null,
   "metadata": {},
   "outputs": [],
   "source": [
    "month_names = df.Mês.apply(lambda x: month_name[x]) #Usando a função lambda, com a coluna mês com Apply\n",
    "month_names.sample()"
   ]
  },
  {
   "cell_type": "code",
   "execution_count": null,
   "metadata": {},
   "outputs": [],
   "source": [
    "df['Month'] = month_names\n",
    "df.sample(10)"
   ]
  },
  {
   "cell_type": "markdown",
   "metadata": {},
   "source": [
    "### Exercício\n",
    "\n",
    "Como em nosso último código adicionamos a coluna 'Month' em nosso DataFrame, vamos agora selecionar só as colunas (Month, Empresa, Linha, Qtd_Viagens) respequetivamente."
   ]
  },
  {
   "cell_type": "code",
   "execution_count": null,
   "metadata": {},
   "outputs": [],
   "source": [
    "# insira aqui seu código:"
   ]
  },
  {
   "cell_type": "markdown",
   "metadata": {},
   "source": [
    "### Exercício\n",
    "\n",
    "Crie uma nova coluna chamada \"Mdays\" contendo o número de dias para cada mês da coluna 'Mês'.\n",
    "\n",
    "**Dica:** Use 'mdays' da biblioteca **calendário.**"
   ]
  },
  {
   "cell_type": "code",
   "execution_count": null,
   "metadata": {},
   "outputs": [],
   "source": [
    "# insira aqui seu código:"
   ]
  },
  {
   "cell_type": "markdown",
   "metadata": {},
   "source": [
    "### Exercício\n",
    "\n",
    "Com base em nosso último exercício, queremos agora mostrar em um novo DF a quantidade de dias de cada mês seguindo o seguinte padrão (Month, Qtd_dias, Empresa, Linha, Qtd_Viagens) respequetivamente."
   ]
  },
  {
   "cell_type": "code",
   "execution_count": null,
   "metadata": {},
   "outputs": [],
   "source": [
    "# insira aqui seu código:"
   ]
  },
  {
   "cell_type": "markdown",
   "metadata": {},
   "source": [
    "### Classificando um DataFrame por Coluna\n",
    "\n",
    "Um DataFrame classificado é sempre melhor para descobrir as coisas. Para fazer isso, precisamos escolher uma coluna e classificar o DataFrame por essa coluna. Por que não construímos um ranking de 10 para todo o quadro de dados em relação às viagens de ida e volta (coluna \"Qtd_Viagens\")? Podemos usar o método *sort_values()* para nos ajudar:"
   ]
  },
  {
   "cell_type": "code",
   "execution_count": null,
   "metadata": {},
   "outputs": [],
   "source": [
    "df.sort_values('Qtd_Viagens', ascending=False).head(10) \n",
    "# Quando inserimos 'ascending=False' a ordem de classificação será decrescente\n",
    "# Valor \"TRUE\" = Default!"
   ]
  },
  {
   "cell_type": "markdown",
   "metadata": {},
   "source": [
    "Também podemos usar mais colunas para classificar o quadro de dados. Agora, vamos classificar as linhas do quadro de dados por colunas em relação às entradas pela metade do preço para estudantes (colunas com o prefixo \"Estudante_\"):"
   ]
  },
  {
   "cell_type": "code",
   "execution_count": null,
   "metadata": {},
   "outputs": [],
   "source": [
    "df.sort_values(by=['Estudante_BT', 'Estudante_Cartao'], ascending=[True, False]).head(10)\n",
    "# 'by' é necessário quando vamos usar mais de uma consulta"
   ]
  },
  {
   "cell_type": "markdown",
   "metadata": {},
   "source": [
    "### Exercício\n",
    "\n",
    "Crie uma classificação contendo apenas a coluna \"Linha\" e \"Quantidade de Viagens\" e depois classifique as linhas em qualquer ordem."
   ]
  },
  {
   "cell_type": "code",
   "execution_count": null,
   "metadata": {},
   "outputs": [],
   "source": [
    "# insira aqui seu código:"
   ]
  },
  {
   "cell_type": "markdown",
   "metadata": {},
   "source": [
    "## Agrupando informação por Coluna\n",
    "\n",
    "Às vezes, precisamos agrupar informações, para fazer isso, podemos usar a função groupby() para agrupar dados e depois aplicar ao resultado uma função de agregação. Neste exemplo, agruparemos todo o quadro de dados em relação às colunas \"Mês\"(porque representam a mesma informação). O resultado será uma agregação mensal de todos os dados."
   ]
  },
  {
   "cell_type": "code",
   "execution_count": null,
   "metadata": {},
   "outputs": [],
   "source": [
    "df.groupby('Mês', as_index=True).sum()\n",
    "# as_index_True = significa que a coluna de agregação não será transformada em um índice"
   ]
  },
  {
   "cell_type": "markdown",
   "metadata": {},
   "source": [
    "### Exercício\n",
    "\n",
    "Crie um DataFrame onde possamos ver a quantidade de viagens mensal por empresa de ônibus usando groupby()."
   ]
  },
  {
   "cell_type": "code",
   "execution_count": null,
   "metadata": {},
   "outputs": [],
   "source": [
    "# insira aqui seu código:"
   ]
  },
  {
   "cell_type": "code",
   "execution_count": null,
   "metadata": {},
   "outputs": [],
   "source": [
    "# resposta\n",
    "# df['Mês'] = df['Mês'].astype('str')\n",
    "lixo = df[['Empresa','Mês', 'Qtd_Viagens']].groupby(by=['Empresa','Mês'], as_index=True).max()"
   ]
  },
  {
   "cell_type": "markdown",
   "metadata": {},
   "source": [
    "### Exercício Final\n",
    "\n",
    "Com baso no que vimos, vamos selecionar apenas as colunas (Mês, Empresa, Integracao_Total) respectivamente, só da empresa 'CONCEIÇÃO', agrupada por mês e somando o valor total das integrações de todas as linhas."
   ]
  },
  {
   "cell_type": "code",
   "execution_count": null,
   "metadata": {},
   "outputs": [],
   "source": [
    "# insira aqui seu código:"
   ]
  }
 ],
 "metadata": {
  "kernelspec": {
   "display_name": "Python 3",
   "language": "python",
   "name": "python3"
  },
  "language_info": {
   "codemirror_mode": {
    "name": "ipython",
    "version": 3
   },
   "file_extension": ".py",
   "mimetype": "text/x-python",
   "name": "python",
   "nbconvert_exporter": "python",
   "pygments_lexer": "ipython3",
   "version": "3.7.3"
  }
 },
 "nbformat": 4,
 "nbformat_minor": 2
}
